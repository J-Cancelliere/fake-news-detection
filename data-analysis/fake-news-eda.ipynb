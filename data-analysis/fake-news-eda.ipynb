{
 "cells": [
  {
   "cell_type": "markdown",
   "id": "3c892823",
   "metadata": {},
   "source": [
    "# Exploratory Data Analysis - Fake and Real News Datasets"
   ]
  },
  {
   "cell_type": "code",
   "execution_count": 18,
   "id": "758edac0",
   "metadata": {},
   "outputs": [],
   "source": [
    "import numpy as np\n",
    "import pandas as pd\n",
    "from matplotlib import pyplot as plt"
   ]
  },
  {
   "cell_type": "markdown",
   "id": "2b9be5a5",
   "metadata": {},
   "source": [
    "## Importing the datasets"
   ]
  },
  {
   "cell_type": "code",
   "execution_count": 62,
   "id": "3294d516",
   "metadata": {
    "scrolled": true
   },
   "outputs": [
    {
     "data": {
      "text/html": [
       "<div>\n",
       "<style scoped>\n",
       "    .dataframe tbody tr th:only-of-type {\n",
       "        vertical-align: middle;\n",
       "    }\n",
       "\n",
       "    .dataframe tbody tr th {\n",
       "        vertical-align: top;\n",
       "    }\n",
       "\n",
       "    .dataframe thead th {\n",
       "        text-align: right;\n",
       "    }\n",
       "</style>\n",
       "<table border=\"1\" class=\"dataframe\">\n",
       "  <thead>\n",
       "    <tr style=\"text-align: right;\">\n",
       "      <th></th>\n",
       "      <th>title</th>\n",
       "      <th>text</th>\n",
       "      <th>subject</th>\n",
       "      <th>date</th>\n",
       "    </tr>\n",
       "  </thead>\n",
       "  <tbody>\n",
       "    <tr>\n",
       "      <th>0</th>\n",
       "      <td>Donald Trump Sends Out Embarrassing New Year’...</td>\n",
       "      <td>Donald Trump just couldn t wish all Americans ...</td>\n",
       "      <td>News</td>\n",
       "      <td>December 31, 2017</td>\n",
       "    </tr>\n",
       "    <tr>\n",
       "      <th>1</th>\n",
       "      <td>Drunk Bragging Trump Staffer Started Russian ...</td>\n",
       "      <td>House Intelligence Committee Chairman Devin Nu...</td>\n",
       "      <td>News</td>\n",
       "      <td>December 31, 2017</td>\n",
       "    </tr>\n",
       "    <tr>\n",
       "      <th>2</th>\n",
       "      <td>Sheriff David Clarke Becomes An Internet Joke...</td>\n",
       "      <td>On Friday, it was revealed that former Milwauk...</td>\n",
       "      <td>News</td>\n",
       "      <td>December 30, 2017</td>\n",
       "    </tr>\n",
       "    <tr>\n",
       "      <th>3</th>\n",
       "      <td>Trump Is So Obsessed He Even Has Obama’s Name...</td>\n",
       "      <td>On Christmas day, Donald Trump announced that ...</td>\n",
       "      <td>News</td>\n",
       "      <td>December 29, 2017</td>\n",
       "    </tr>\n",
       "    <tr>\n",
       "      <th>4</th>\n",
       "      <td>Pope Francis Just Called Out Donald Trump Dur...</td>\n",
       "      <td>Pope Francis used his annual Christmas Day mes...</td>\n",
       "      <td>News</td>\n",
       "      <td>December 25, 2017</td>\n",
       "    </tr>\n",
       "  </tbody>\n",
       "</table>\n",
       "</div>"
      ],
      "text/plain": [
       "                                               title  \\\n",
       "0   Donald Trump Sends Out Embarrassing New Year’...   \n",
       "1   Drunk Bragging Trump Staffer Started Russian ...   \n",
       "2   Sheriff David Clarke Becomes An Internet Joke...   \n",
       "3   Trump Is So Obsessed He Even Has Obama’s Name...   \n",
       "4   Pope Francis Just Called Out Donald Trump Dur...   \n",
       "\n",
       "                                                text subject  \\\n",
       "0  Donald Trump just couldn t wish all Americans ...    News   \n",
       "1  House Intelligence Committee Chairman Devin Nu...    News   \n",
       "2  On Friday, it was revealed that former Milwauk...    News   \n",
       "3  On Christmas day, Donald Trump announced that ...    News   \n",
       "4  Pope Francis used his annual Christmas Day mes...    News   \n",
       "\n",
       "                date  \n",
       "0  December 31, 2017  \n",
       "1  December 31, 2017  \n",
       "2  December 30, 2017  \n",
       "3  December 29, 2017  \n",
       "4  December 25, 2017  "
      ]
     },
     "execution_count": 62,
     "metadata": {},
     "output_type": "execute_result"
    }
   ],
   "source": [
    "fake_df = pd.read_csv('../data/Fake.csv')\n",
    "fake_df.head()"
   ]
  },
  {
   "cell_type": "code",
   "execution_count": 63,
   "id": "7eaca545",
   "metadata": {
    "scrolled": true
   },
   "outputs": [
    {
     "data": {
      "text/html": [
       "<div>\n",
       "<style scoped>\n",
       "    .dataframe tbody tr th:only-of-type {\n",
       "        vertical-align: middle;\n",
       "    }\n",
       "\n",
       "    .dataframe tbody tr th {\n",
       "        vertical-align: top;\n",
       "    }\n",
       "\n",
       "    .dataframe thead th {\n",
       "        text-align: right;\n",
       "    }\n",
       "</style>\n",
       "<table border=\"1\" class=\"dataframe\">\n",
       "  <thead>\n",
       "    <tr style=\"text-align: right;\">\n",
       "      <th></th>\n",
       "      <th>title</th>\n",
       "      <th>text</th>\n",
       "      <th>subject</th>\n",
       "      <th>date</th>\n",
       "    </tr>\n",
       "  </thead>\n",
       "  <tbody>\n",
       "    <tr>\n",
       "      <th>0</th>\n",
       "      <td>As U.S. budget fight looms, Republicans flip t...</td>\n",
       "      <td>WASHINGTON (Reuters) - The head of a conservat...</td>\n",
       "      <td>politicsNews</td>\n",
       "      <td>December 31, 2017</td>\n",
       "    </tr>\n",
       "    <tr>\n",
       "      <th>1</th>\n",
       "      <td>U.S. military to accept transgender recruits o...</td>\n",
       "      <td>WASHINGTON (Reuters) - Transgender people will...</td>\n",
       "      <td>politicsNews</td>\n",
       "      <td>December 29, 2017</td>\n",
       "    </tr>\n",
       "    <tr>\n",
       "      <th>2</th>\n",
       "      <td>Senior U.S. Republican senator: 'Let Mr. Muell...</td>\n",
       "      <td>WASHINGTON (Reuters) - The special counsel inv...</td>\n",
       "      <td>politicsNews</td>\n",
       "      <td>December 31, 2017</td>\n",
       "    </tr>\n",
       "    <tr>\n",
       "      <th>3</th>\n",
       "      <td>FBI Russia probe helped by Australian diplomat...</td>\n",
       "      <td>WASHINGTON (Reuters) - Trump campaign adviser ...</td>\n",
       "      <td>politicsNews</td>\n",
       "      <td>December 30, 2017</td>\n",
       "    </tr>\n",
       "    <tr>\n",
       "      <th>4</th>\n",
       "      <td>Trump wants Postal Service to charge 'much mor...</td>\n",
       "      <td>SEATTLE/WASHINGTON (Reuters) - President Donal...</td>\n",
       "      <td>politicsNews</td>\n",
       "      <td>December 29, 2017</td>\n",
       "    </tr>\n",
       "  </tbody>\n",
       "</table>\n",
       "</div>"
      ],
      "text/plain": [
       "                                               title  \\\n",
       "0  As U.S. budget fight looms, Republicans flip t...   \n",
       "1  U.S. military to accept transgender recruits o...   \n",
       "2  Senior U.S. Republican senator: 'Let Mr. Muell...   \n",
       "3  FBI Russia probe helped by Australian diplomat...   \n",
       "4  Trump wants Postal Service to charge 'much mor...   \n",
       "\n",
       "                                                text       subject  \\\n",
       "0  WASHINGTON (Reuters) - The head of a conservat...  politicsNews   \n",
       "1  WASHINGTON (Reuters) - Transgender people will...  politicsNews   \n",
       "2  WASHINGTON (Reuters) - The special counsel inv...  politicsNews   \n",
       "3  WASHINGTON (Reuters) - Trump campaign adviser ...  politicsNews   \n",
       "4  SEATTLE/WASHINGTON (Reuters) - President Donal...  politicsNews   \n",
       "\n",
       "                 date  \n",
       "0  December 31, 2017   \n",
       "1  December 29, 2017   \n",
       "2  December 31, 2017   \n",
       "3  December 30, 2017   \n",
       "4  December 29, 2017   "
      ]
     },
     "execution_count": 63,
     "metadata": {},
     "output_type": "execute_result"
    }
   ],
   "source": [
    "true_df = pd.read_csv('../data/True.csv')\n",
    "true_df.head()"
   ]
  },
  {
   "cell_type": "markdown",
   "id": "d0a42246",
   "metadata": {},
   "source": [
    "### Some sample texts"
   ]
  },
  {
   "cell_type": "code",
   "execution_count": 79,
   "id": "2176e103",
   "metadata": {},
   "outputs": [],
   "source": [
    "from random import randint\n",
    "# Print 3 random samples of the text column from a dataframe \n",
    "def print_sample_texts(dataframe):\n",
    "    for i in range(3):\n",
    "        print(f\"\\nSample {i+1}:\\n\")\n",
    "        print(dataframe.text[randint(0,len(dataframe))])"
   ]
  },
  {
   "cell_type": "code",
   "execution_count": 78,
   "id": "41874c6d",
   "metadata": {},
   "outputs": [
    {
     "name": "stdout",
     "output_type": "stream",
     "text": [
      "\n",
      "Sample 1:\n",
      "\n",
      "Right-wing super troll and Breitbart.com contributor Milo Yiannopoulos has been banned from Twitter forever. The announcement comes from the social network after years of Yiannopoulos using the service to direct his followers to hound and harass people with racist, bigoted, and sexist threats.That ended on Tuesday.But this week he went far. According to Twitter, it was Yiannopoulos who led the harassment campaign against Ghostbusters actor Leslie Jones that inspired the SNL cast member s decision to leave Twitter. The tweets, many of which targeted Jones for being black and a woman, were the final straw for Twitter, which is taking steps to try to solve its harassment problem.According to the company, the permanent suspension isn t a matter of speech as much as a matter of behavior   specifically, a violation of Twitter s rules regarding the targeted abuse of specific users.Yiannopoulos and his rabid fan base went after Jones because they view her role in the all-female Ghostbusters as an attack on men, and believe the movie should be attacked, no matter the merits of the film on its own.As a result, when the so-called  alt-right  pundit directed his followers to Jones, the actress received numerous tweets comparing her to a monkey or baboon and a torrent of racist and sexist epithets.Jones, frustrated that Twitter was not responding to clear violations of its user policy prohibiting such actions, began to post the threats she received as a form of protest against the company. Twitter CEO Jack Dorsey finally reached out to Jones, but only after hours of posting the clear violations.Yiannopoulos has styled himself as a provocateur on what he and his followers call the  alt-right.  The movement though is not really  alt  but is a throwback to some of the racist and sexist impulses that have lived on the right for decades. Alt-right supporters of Trump have often sent anti-Semitic images and messages to journalists who they feel are not supportive enough of the Republican nominee.Featured image via YouTube\n",
      "\n",
      "Sample 2:\n",
      "\n",
      "After last week s G-20 meeting, where Donald Trump was more pariah than world leader, he tweeted a video compilation from the meeting. The amateurish editing isn t even the story, though. It was all set to the most gawdawful, dictatorial sounding music you ve ever heard.The video shows several brief clips of a sour-faced Trump during the G-20 and the soundtrack was a group singing  Make America Great Again  in a way that would make most high school choir directors cringe. Hell, it should make most Americans cringe. Kim Jong-Un might be taking notes.MAKE AMERICA GREAT AGAIN! pic.twitter.com/NVDVRrWLs4  Donald J. Trump (@realDonaldTrump) July 9, 2017The music was performed by the First Baptist Church of Dallas, and among some other random patriotic sounding BS, the words  Make America Great Again  is repeated ad nauseam (and you will feel nauseated), no less than nine times. The creep factor didn t get by Twitter.Oh, and thanks First Baptist Dallas for this dreadful song.  Nicola A. Menzie (@namenzie) July 9, 2017Triggered? Our 12 year old President needed a photo recap video to feel relevant while the rest of the world ridicules his presence at #G20.  Eco (@TheSoundOfEco) July 9, 2017America was great before you.  Tony Posnanski (@tonyposnanski) July 9, 2017But it is nice to know that in the modern era you can create a propaganda film in iPhoto  Amanda Deibert? ? (@amandadeibert) July 9, 2017Just watched Trump s MAGA song, his 4th of July wish to us. Not sure I ll be able to eat for the rest of the day. He defined narcissistic!!  Peter Norvid (@PNorvid) July 4, 2017 Truly music to start nuclear wars to. /Trump posts  MAGA  song on Twitter & it feels very N Korea https://t.co/DiJt9hNkwZ  Kelly B (@KellyBrouse) July 5, 2017Of course, Trump needs all the media coverage he can get right now, whether it s positive or not   as long as it s not about Russia.Featured image via Pool/Getty Images.\n",
      "\n",
      "Sample 3:\n",
      "\n",
      "Because today ends in a Y, Donald Trump took to his twitter account to bash a group of people; this time it was transgender Americans. In a series of early morning tweets on Wednesday, Trump announced that he plans to reinstate a ban on transgender individuals serving  in any capacity  in the U.S. armed forces, thus overturning the Obama-era rule. Trump s decision is in stark contrast to his vow during his campaign last year in which he said he would be a better friend to the LGBTQ community than Hillary Clinton.  I will tell you who the better friend is and some day I believe that will be proven out big league,  Trump said at the time.According to the RAND Corporation, in 2016 there were between 1,320 and 6,630 transgender people serving in the military.On Wednesday, a retired Navy SEAL team 6 hero who is transgendered, called out Trump over his decision to ban trans people from serving in the U.S. military, telling him to tell her to her face that she is not worthy of serving.Kristin Beck, a 20-year-veteran of the Navy SEALS, was interviewed by Business Insider about Trump s ban and she had a few choice words for the amateur president. Let s meet face to face and you tell me I m not worthy,  Kristin Beck said, referring to President Bone Spurs.  Transgender doesn t matter. Do your service. Being transgender doesn t affect anyone else,  Beck continued.  We are liberty s light. If you can t defend that for everyone that s an American citizen, that s not right. Beck was deployed 13 times over two decades and served in Bosnia, Iraq, and Afghanistan, according to Business Insider. She received the Bronze Star award for valor and the Purple Heart for wounds suffered in combat so she served our country well. I was defending individual liberty,  she said.  I defended for Republicans. I defended for Democrats. I defended for everyone. We re picturing Trump being fired upon as a soldier comes up to rescue him.  Are you transgendered, because if you are, you are not supposed to be here.  No one would be surprised if Trump started unleashing mean-girl tweets about the retired Navy SEAL. We can see it now:  She s a LOSER! Go on Trump, tell that to her face. Tell this war hero that she s not worthy of serving.Featured image via Tom Pennington/Getty Images\n"
     ]
    }
   ],
   "source": [
    "print_sample_texts(fake_df)"
   ]
  },
  {
   "cell_type": "code",
   "execution_count": 80,
   "id": "5646f37d",
   "metadata": {},
   "outputs": [
    {
     "name": "stdout",
     "output_type": "stream",
     "text": [
      "\n",
      "Sample 1:\n",
      "\n",
      "BEDMINSTER, N.J. (Reuters) - For President Donald Trump, this was the week when the real world began to intrude upon his presidency.  The violent clashes in Charlottesville, Virginia, between white nationalists and counter-protesters confronted Trump with perhaps the first true domestic crisis of his young administration. And to some, even within his own Republican Party, he came up short.  It followed days of blustery threats toward North Korea that rattled some Americans and unnerved allies. Both are the kinds of white-knuckle challenges that define presidents - and which Trump largely has avoided during the first months of his tenure.  As images of rising tensions and a deadly car rampage in Charlottesville filled TV screens nationwide, the president was criticized first for waiting too long to address the violence and then, when he did so, failing to explicitly condemn the white-supremacist marchers who ignited the melee. [nL2N1KY033] Marco Rubio, a Republican senator who was Trump’s rival for the presidential nomination, quickly suggested Trump’s initial response was inadequate. On Twitter, Rubio wrote that it was, “Very important for the nation to hear [Trump] describe events in Charlottesville for what they are: a terror attack by #whitesupremacists.” While Trump has had to deal with the pressures of the federal probe into Russian meddling in last year’s election, disarray in his White House, and conflicts with Congress over his stalled agenda, there are have been few external crises that have tested his presidential mettle.  By contrast, his predecessor, Barack Obama, inherited a severe economic downturn during his first year in office, and would go on to face, among other tests, a catastrophic oil spill in the Gulf of Mexico, Middle East upheaval, terror attacks in Boston, Orlando, and elsewhere, and civil unrest in Ferguson, Missouri and Baltimore, Maryland.  Trump has spent this week at his tony golf club in New Jersey, attempting to show the American public that he is indeed working and not vacationing. He held one event after the other, while answering media questions with an approachability he hasn’t shown for months. Yet, when news of the situation in Charlottesville first started filtering out on Friday, Trump was silent. He first addressed the matter — through a tweet — on Saturday afternoon, after a planned white-supremacist rally had been dispersed, fights had broken out, and a state of emergency declared.  By the time Trump finally appeared before reporters at a staged bill-signing event at his club, footage of a car speeding up and slamming into a crowd of protesters had swamped social media and cable networks, raising the specter of domestic terrorism. At least one woman in the car’s path died and several people suffered critical injuries. At a podium, Trump read a statement rebuking the violence, but without specifically mentioning or faulting the role of white nationalists.   “We condemn in the strongest possible terms this egregious display of hatred, bigotry and violence on many sides - on many sides,” Trump said.  He also took the occasion to boast about declining unemployment and new corporate investment in the United States. Afterwards, he ignored shouted questions from reporters as to whether he would denounce white supremacism and whether the car incident constituted terrorism.  Beyond Rubio, Trump’s response apparently also was not enough for Senator Cory Gardner, who chairs the Republican Party’s Senate-election effort. “Mr. President, we must call evil by its name,” he tweeted. “These were white supremacists and this was domestic terrorism.” Republican Orrin Hatch, who has served as a senator for 40 years, referenced his brother, who was killed in World War II. “We should call evil by its name. My brother didn’t give his life fighting Hitler for Nazi ideas to go unchallenged here at home,” he said on Twitter.  Democratic Senator Brian Schatz said that Trump had not demonstrated moral leadership. “There are NOT many sides to this,” he wrote.  Trump tweeted several more times after the press event, offering support to the city of Charlottesville and the police but still declining to critique the violence in more explicit terms. Both as a candidate and as president, Trump has met with charges that he has courted the support of white supremacists and nationalists, the so-called “alt-right,” as a key part of his passionate voter base. He was forced at one point last year to publicly denounce the Ku Klux Klan and one of its leaders, David Duke. After Trump was elected, he installed Steve Bannon, a trusted figure in nationalist circles and former chairman of the hard-right outlet Breitbart News, as a top adviser in the White House. \n",
      "\n",
      "Sample 2:\n",
      "\n",
      "WASHINGTON (Reuters) - Federal Reserve Chair Janet Yellen will appear before the U.S. House of Representatives Financial Services Committee on Feb. 10 to deliver the central bank’s semi-annual monetary policy report, the committee said on Wednesday. The head of the central bank last testified before the committee in July. \n",
      "\n",
      "Sample 3:\n",
      "\n",
      "SEOUL (Reuters) - The North Korean soldier critically wounded when making a dash to the south last month may have cheated death, but even as his health improves, he is months if not years away from finding a normal life in South Korea, officials and other defectors say.  The transition to life in the democratic and prosperous South can be difficult for any defector from the isolated and impoverished North, let alone for a soldier from an elite border unit with potentially actionable military intelligence and a high profile that may complicate efforts to blend in. The 24-year-old soldier, identified only by his surname Oh, has been released from intensive care after being shot five times during his daring defection, but is still battling a hepatitis B infection which could delay his transfer to a military hospital for some time, doctors said.  As active duty soldier defectors have up-to-date information, the intelligence agencies would question the soldiers and see if anything needs to be addressed in our military s operation and combat plans,  a current South Korean government official involved in resettling North Korean refugees told Reuters. Oh will likely be under the protection of South Korea s spy agency, the National Intelligence Service (NIS), and then be offered work such as code cracking in the military or related agencies, a former senior South Korean government official said.   The decision would be made after a comprehensive assessment on what he means to national security, the level of information he has, and whether he would be capable of mingling with other defectors at the resettlement center,  the former official said. Defections by active-duty soldiers are extremely rare, once a year or less. Intelligence agencies are keen to question Oh, who was stationed in the Joint Security Area near the heavily fortified border, according to South Korean lawmakers briefed by the NIS.  Doctors have asked that officials wait until Oh is fully recovered both physically and emotionally before they begin questioning. Given his high-profile escape and status as a member from an elite border unit, Oh will likely be given more personalized assistance, away from other North Korean defectors at the Hanawon resettlement center, the former South Korean official said.  Most defectors undergo security questioning by the National Intelligence Service for a few days up to several months in extreme cases, before being moved to the Hanawon resettlement center.  There they receive mandatory three-month education on life in the capitalist South, from taking public transportation to opening a bank account to creating an email address.  It s where you would get to see the outside world for the first time, as they take you out to meet people on the streets and learn how to access the social service network. These days, you can also do a homestay with an ordinary South Korean family,  said Ji Seong-ho, a 35-year-old defector who heads Now, Action and Unity for Human Rights (NAUH), a group that rescues and resettles North Korean refugees.  Such training can be more useful for some people than others, said Kim Jin-soo, a 29-year-old former member of the North Korean secret police who defected to the South in 2011.  Looking back, it would ve been really useful if they taught more realistic things even though it might discourage people, like how to prepare for a job fair and find a suitable workplace and why it s important to lose the North Korean accent,  he said.   Fresh off Hanawon, you re like a one-year-old baby. But those are the things that would pose a real obstacle when you actually go out there on your own,  said Kim, who now works at a advertising firm in Seoul.  After leaving Hanawon, central and local governments provide defectors 7 million won ($6,450) in cash over a year - barely a fifth of South Korea s annual average income - as well as support in housing, education and job training. Police officers are assigned to each of the defectors to ensure their security.  Oh may have potential value to the South Korean government or organizations that try to highlight conditions in North Korea, but it will be up to him whether he wants to live a life in the limelight, said Sokeel Park, country director for Liberty in North Korea, which helps North Korean refugees.  If he has any mind to get involved in that kind of stuff then there will be all kinds of media or non-governmental organizations who would fall over themselves to give him that platform,  said Park.   But if he makes a good recovery and he chooses to blend it, then he s just another young guy with a vague back story.  GRAPHIC: Defector braves hail of bullets reut.rs/2zAUDRN \n"
     ]
    }
   ],
   "source": [
    "print_sample_texts(true_df)"
   ]
  },
  {
   "cell_type": "markdown",
   "id": "0780d6c0",
   "metadata": {},
   "source": [
    "## Analysing text and title lengths (in characters)"
   ]
  },
  {
   "cell_type": "code",
   "execution_count": 64,
   "id": "3a5da912",
   "metadata": {},
   "outputs": [],
   "source": [
    "# Get the character length of each value in a DataFrame Series\n",
    "def get_lens(series):\n",
    "    return series.apply(lambda x : len(x))"
   ]
  },
  {
   "cell_type": "code",
   "execution_count": 100,
   "id": "cb737d5a",
   "metadata": {},
   "outputs": [],
   "source": [
    "fake_df['title_chars'] = get_lens(fake_df.title)\n",
    "true_df['title_chars'] = get_lens(true_df.title)"
   ]
  },
  {
   "cell_type": "code",
   "execution_count": 101,
   "id": "c0f74fbf",
   "metadata": {},
   "outputs": [],
   "source": [
    "fake_df['text_chars'] = get_lens(fake_df.text)\n",
    "true_df['text_chars'] = get_lens(true_df.text)"
   ]
  },
  {
   "cell_type": "code",
   "execution_count": 67,
   "id": "7abfd4df",
   "metadata": {},
   "outputs": [],
   "source": [
    "text_len_bins = np.arange(0,10000,250)"
   ]
  },
  {
   "cell_type": "code",
   "execution_count": 102,
   "id": "06a39e2d",
   "metadata": {
    "scrolled": false
   },
   "outputs": [
    {
     "data": {
      "image/png": "[encoded data removed]",
      "text/plain": [
       "<Figure size 640x480 with 2 Axes>"
      ]
     },
     "metadata": {},
     "output_type": "display_data"
    }
   ],
   "source": [
    "fig, axs = plt.subplots(2)\n",
    "fig.tight_layout(pad=1.5)\n",
    "axs[0].title.set_text(\"Fake Article Length Distribution\")\n",
    "axs[0].hist(fake_df.text_chars, bins=text_len_bins)\n",
    "axs[1].title.set_text(\"True Article Length Distribution\")\n",
    "axs[1].hist(true_df.text_chars, bins=text_len_bins);"
   ]
  },
  {
   "cell_type": "markdown",
   "id": "1a7be6ba",
   "metadata": {},
   "source": [
    "## Cleaning, tokenizing, and analyzing the words in text"
   ]
  },
  {
   "cell_type": "code",
   "execution_count": 95,
   "id": "924544e6",
   "metadata": {},
   "outputs": [
    {
     "name": "stderr",
     "output_type": "stream",
     "text": [
      "[nltk_data] Downloading package punkt to /home/joseph/nltk_data...\n",
      "[nltk_data]   Unzipping tokenizers/punkt.zip.\n",
      "[nltk_data] Downloading package stopwords to /home/joseph/nltk_data...\n",
      "[nltk_data]   Unzipping corpora/stopwords.zip.\n"
     ]
    },
    {
     "data": {
      "text/plain": [
       "True"
      ]
     },
     "execution_count": 95,
     "metadata": {},
     "output_type": "execute_result"
    }
   ],
   "source": [
    "import string\n",
    "import nltk\n",
    "nltk.download('punkt')\n",
    "nltk.download('stopwords')"
   ]
  },
  {
   "cell_type": "code",
   "execution_count": 133,
   "id": "5b8ed395",
   "metadata": {},
   "outputs": [
    {
     "data": {
      "text/plain": [
       "0        donald trump just couldn t wish all americans ...\n",
       "1        house intelligence committee chairman devin nu...\n",
       "2        on friday, it was revealed that former milwauk...\n",
       "3        on christmas day, donald trump announced that ...\n",
       "4        pope francis used his annual christmas day mes...\n",
       "                               ...                        \n",
       "23476    21st century wire says as 21wire reported earl...\n",
       "23477    21st century wire says it s a familiar theme. ...\n",
       "23478    patrick henningsen  21st century wireremember ...\n",
       "23479    21st century wire says al jazeera america will...\n",
       "23480    21st century wire says as 21wire predicted in ...\n",
       "Name: text, Length: 23481, dtype: object"
      ]
     },
     "execution_count": 133,
     "metadata": {},
     "output_type": "execute_result"
    }
   ],
   "source": [
    "remove_punctuation(fake_df.text).apply(lambda x : x.lower())"
   ]
  },
  {
   "cell_type": "code",
   "execution_count": 137,
   "id": "526e47f2",
   "metadata": {},
   "outputs": [],
   "source": [
    "# removes all punctuation from a series of texts\n",
    "def remove_punctuation(series):\n",
    "    for punct in string.punctuation:\n",
    "        new_series = series.apply(lambda x : x.replace(punct,\"\"))\n",
    "    return new_series\n",
    "\n",
    "# makes all letters in a series of texts lowercase\n",
    "def decapitalize(series):\n",
    "    return series.apply(lambda x : x.lower())"
   ]
  },
  {
   "cell_type": "code",
   "execution_count": 103,
   "id": "9996d9b5",
   "metadata": {},
   "outputs": [],
   "source": [
    "# Tokenize a series of texts into lists of tokens\n",
    "def tokenize_text(series):\n",
    "    return series.apply(nltk.word_tokenize)"
   ]
  },
  {
   "cell_type": "code",
   "execution_count": 119,
   "id": "d20cfe12",
   "metadata": {},
   "outputs": [],
   "source": [
    "# Remove all stopwords from a list of tokens\n",
    "def remove_stopwords(tokens):\n",
    "    return [word for word in tokens if word not in stopwords.words(\"english\")]"
   ]
  },
  {
   "cell_type": "code",
   "execution_count": 138,
   "id": "952a9cf4",
   "metadata": {},
   "outputs": [],
   "source": [
    "# applies all text cleaning functions above to a series of texts and returns a DF containing clean text and the word count of the test\n",
    "def clean_all_text(series):\n",
    "    punct_series = remove_punctuation(series)\n",
    "    lower_series = decapitalize(punct_series)\n",
    "    token_series = tokenize_text(lower_series)\n",
    "    word_count = token_series.apply(lambda x : len(x))\n",
    "    new_series = token_series.apply(remove_stopwords)\n",
    "    return pd.DataFrame({\"text\" : new_series, \"word_count\" : word_count})"
   ]
  },
  {
   "cell_type": "code",
   "execution_count": null,
   "id": "b8bbe7a7",
   "metadata": {},
   "outputs": [],
   "source": [
    "cleaned_fake_df = clean_all_text(fake_df.text)\n",
    "cleaned_fake_df.head()"
   ]
  },
  {
   "cell_type": "code",
   "execution_count": null,
   "id": "87720177",
   "metadata": {},
   "outputs": [],
   "source": []
  }
 ],
 "metadata": {
  "kernelspec": {
   "display_name": "Python 3 (ipykernel)",
   "language": "python",
   "name": "python3"
  },
  "language_info": {
   "codemirror_mode": {
    "name": "ipython",
    "version": 3
   },
   "file_extension": ".py",
   "mimetype": "text/x-python",
   "name": "python",
   "nbconvert_exporter": "python",
   "pygments_lexer": "ipython3",
   "version": "3.10.6"
  },
  "toc": {
   "base_numbering": 1,
   "nav_menu": {},
   "number_sections": true,
   "sideBar": true,
   "skip_h1_title": false,
   "title_cell": "Table of Contents",
   "title_sidebar": "Contents",
   "toc_cell": false,
   "toc_position": {},
   "toc_section_display": true,
   "toc_window_display": false
  }
 },
 "nbformat": 4,
 "nbformat_minor": 5
}
